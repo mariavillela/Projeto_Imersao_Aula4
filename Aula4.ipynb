{
  "nbformat": 4,
  "nbformat_minor": 0,
  "metadata": {
    "colab": {
      "provenance": [],
      "authorship_tag": "ABX9TyN/DVo5ADjj2wqpQjRVPjkI",
      "include_colab_link": true
    },
    "kernelspec": {
      "name": "python3",
      "display_name": "Python 3"
    },
    "language_info": {
      "name": "python"
    }
  },
  "cells": [
    {
      "cell_type": "markdown",
      "metadata": {
        "id": "view-in-github",
        "colab_type": "text"
      },
      "source": [
        "<a href=\"https://colab.research.google.com/github/mariavillela/Projeto_Imersao_Aula4/blob/main/Aula4.ipynb\" target=\"_parent\"><img src=\"https://colab.research.google.com/assets/colab-badge.svg\" alt=\"Open In Colab\"/></a>"
      ]
    },
    {
      "cell_type": "markdown",
      "source": [
        "Instalando o SDK Google"
      ],
      "metadata": {
        "id": "W63i7Y4qZfEq"
      }
    },
    {
      "cell_type": "code",
      "execution_count": 4,
      "metadata": {
        "id": "kHbuwbMsXQrI"
      },
      "outputs": [],
      "source": [
        "!pip install -q -U google-generativeai"
      ]
    },
    {
      "cell_type": "code",
      "source": [
        "# Import the Python SDK\n",
        "import google.generativeai as genai\n",
        "# Used to securely store your API key\n",
        "from google.colab import userdata\n",
        "\n",
        "GOOGLE_API_KEY=userdata.get('GOOGLE_API_KEY')\n",
        "genai.configure(api_key=GOOGLE_API_KEY)"
      ],
      "metadata": {
        "id": "FsoyNLXgZyhB"
      },
      "execution_count": 6,
      "outputs": []
    },
    {
      "cell_type": "markdown",
      "source": [
        "Listar os modelos disponíveis"
      ],
      "metadata": {
        "id": "iGimzCi6a6f1"
      }
    },
    {
      "cell_type": "code",
      "source": [
        "for m in genai.list_models():\n",
        "  if 'generateContent' in m.supported_generation_methods:\n",
        "    print(m.name)"
      ],
      "metadata": {
        "colab": {
          "base_uri": "https://localhost:8080/",
          "height": 139
        },
        "id": "L27vT1pWZ3fd",
        "outputId": "a4d96a56-aed2-488c-9166-3247ae1050f8"
      },
      "execution_count": 7,
      "outputs": [
        {
          "output_type": "stream",
          "name": "stdout",
          "text": [
            "models/gemini-1.0-pro\n",
            "models/gemini-1.0-pro-001\n",
            "models/gemini-1.0-pro-latest\n",
            "models/gemini-1.0-pro-vision-latest\n",
            "models/gemini-1.5-pro-latest\n",
            "models/gemini-pro\n",
            "models/gemini-pro-vision\n"
          ]
        }
      ]
    },
    {
      "cell_type": "markdown",
      "source": [
        "Parametrizando o modelo"
      ],
      "metadata": {
        "id": "v3D8f1A6d6Cw"
      }
    },
    {
      "cell_type": "code",
      "source": [
        "generation_config = {\n",
        "    \"candidate_count\": 1,\n",
        "    \"temperature\": 0.5,\n",
        "}"
      ],
      "metadata": {
        "id": "LaJafQDCbnhp"
      },
      "execution_count": 8,
      "outputs": []
    },
    {
      "cell_type": "code",
      "source": [
        "safety_settings = {\n",
        "    \"HARASSMENT\": \"BLOCK_NONE\",\n",
        "    \"HATE\": \"BLOCK_NONE\",\n",
        "    \"SEXUAL\": \"BLOCK_NONE\",\n",
        "    \"DANGEROUS\": \"BLOCK_NONE\",\n",
        "}"
      ],
      "metadata": {
        "id": "aJ9uJ1rodGNZ"
      },
      "execution_count": 9,
      "outputs": []
    },
    {
      "cell_type": "markdown",
      "source": [
        "Inicializando o modelo"
      ],
      "metadata": {
        "id": "Loda3k15eAgj"
      }
    },
    {
      "cell_type": "code",
      "source": [
        "model = genai.GenerativeModel(model_name=\"gemini-1.0-pro\",\n",
        "                              generation_config=generation_config,\n",
        "                              safety_settings=safety_settings)"
      ],
      "metadata": {
        "id": "zxjq2pMmeDQS"
      },
      "execution_count": 10,
      "outputs": []
    },
    {
      "cell_type": "code",
      "source": [
        "response = model.generate_content(\"Vamos aprender conteúdo sobre IA. Me dê sugestões.\")\n",
        "print(response.text)"
      ],
      "metadata": {
        "colab": {
          "base_uri": "https://localhost:8080/",
          "height": 746
        },
        "id": "tkDyDLeffFLf",
        "outputId": "9ac56660-c617-44d4-beeb-aa4fb1e2608e"
      },
      "execution_count": 11,
      "outputs": [
        {
          "output_type": "stream",
          "name": "stdout",
          "text": [
            "**Introdução à Inteligência Artificial (IA)**\n",
            "\n",
            "* Definição e conceito de IA\n",
            "* História e evolução da IA\n",
            "* Tipos e aplicações de IA\n",
            "\n",
            "**Aprendizado de Máquina (ML)**\n",
            "\n",
            "* Conceitos básicos de ML\n",
            "* Tipos de algoritmos de ML (supervisionado, não supervisionado, reforço)\n",
            "* Avaliação e seleção de modelos de ML\n",
            "\n",
            "**Aprendizado Profundo (DL)**\n",
            "\n",
            "* Introdução ao DL\n",
            "* Redes neurais e arquiteturas de DL\n",
            "* Técnicas de treinamento e otimização\n",
            "\n",
            "**Processamento de Linguagem Natural (PNL)**\n",
            "\n",
            "* Conceitos básicos de PNL\n",
            "* Processamento de texto e análise de sentimento\n",
            "* Geração e tradução de linguagem\n",
            "\n",
            "**Visão Computacional**\n",
            "\n",
            "* Conceitos básicos de visão computacional\n",
            "* Reconhecimento de imagem e análise de vídeo\n",
            "* Aprendizado por transferência e redes neurais convolucionais (CNNs)\n",
            "\n",
            "**Aplicações de IA**\n",
            "\n",
            "* IA na saúde, finanças, varejo e outras indústrias\n",
            "* Casos de uso específicos e exemplos do mundo real\n",
            "* Implicações éticas e sociais da IA\n",
            "\n",
            "**Recursos para Aprendizado**\n",
            "\n",
            "* Cursos online (Coursera, edX, Udemy)\n",
            "* Livros e artigos de pesquisa\n",
            "* Comunidades e fóruns online\n",
            "* Eventos e conferências da indústria\n"
          ]
        }
      ]
    },
    {
      "cell_type": "code",
      "source": [
        "chat = model.start_chat(history=[])"
      ],
      "metadata": {
        "id": "ynmd2HFqfYwE"
      },
      "execution_count": 12,
      "outputs": []
    },
    {
      "cell_type": "code",
      "source": [
        "prompt = input(\"Esperando prompt: \")\n",
        "\n",
        "while prompt != \"fim\":\n",
        "  response = chat.send_message(prompt)\n",
        "  print(\"Resposta: \", response.text, \"\\n\")\n",
        "  prompt = input(\"Esperando prompt: \")\n"
      ],
      "metadata": {
        "colab": {
          "base_uri": "https://localhost:8080/",
          "height": 954
        },
        "id": "kgEuLG-Hf1Cb",
        "outputId": "8605f3bb-bedc-4e55-89a8-e1ed02b3c432"
      },
      "execution_count": 13,
      "outputs": [
        {
          "name": "stdout",
          "output_type": "stream",
          "text": [
            "Esperando prompt: O que deve ministrar em uma aula inicial sobre Engenharia de Software?\n",
            "Resposta:  **Introdução à Engenharia de Software**\n",
            "\n",
            "**1. O que é Engenharia de Software?**\n",
            "* Definição e escopo\n",
            "* Princípios fundamentais (por exemplo, modularidade, abstração)\n",
            "* Diferença entre desenvolvimento de software e engenharia de software\n",
            "\n",
            "**2. O Processo de Engenharia de Software**\n",
            "* Visão geral do ciclo de vida do desenvolvimento de software (SDLC)\n",
            "* Fases e atividades principais (por exemplo, requisitos, design, implementação, teste)\n",
            "* Modelos de processo (por exemplo, cascata, ágil)\n",
            "\n",
            "**3. Modelagem de Requisitos**\n",
            "* Importância da coleta e análise de requisitos\n",
            "* Técnicas de modelagem (por exemplo, casos de uso, diagramas de fluxo de dados)\n",
            "* Validação e verificação de requisitos\n",
            "\n",
            "**4. Projeto de Software**\n",
            "* Princípios de design (por exemplo, acoplamento, coesão)\n",
            "* Padrões de projeto (por exemplo, Singleton, Factory Method)\n",
            "* Ferramentas e técnicas de projeto (por exemplo, UML, diagramas de classe)\n",
            "\n",
            "**5. Implementação de Software**\n",
            "* Escolha da linguagem de programação e ambiente de desenvolvimento\n",
            "* Técnicas de codificação e boas práticas\n",
            "* Depuração e gerenciamento de erros\n",
            "\n",
            "**6. Teste de Software**\n",
            "* Tipos de testes (por exemplo, teste de unidade, teste de integração, teste de sistema)\n",
            "* Técnicas de teste (por exemplo, teste de caixa preta, teste de caixa branca)\n",
            "* Ferramentas e metodologias de teste\n",
            "\n",
            "**7. Manutenção de Software**\n",
            "* Importância da manutenção do software\n",
            "* Tipos de manutenção (por exemplo, corretiva, adaptativa, perfectiva)\n",
            "* Técnicas e ferramentas de manutenção\n",
            "\n",
            "**8. Ferramentas e Tecnologias de Engenharia de Software**\n",
            "* Sistemas de controle de versão (por exemplo, Git, SVN)\n",
            "* Ambientes de desenvolvimento integrados (por exemplo, Eclipse, IntelliJ)\n",
            "* Ferramentas de análise estática (por exemplo, SonarQube, FindBugs)\n",
            "\n",
            "**9. Ética e Responsabilidade Profissional**\n",
            "* Código de ética para engenheiros de software\n",
            "* Implicações éticas do desenvolvimento de software\n",
            "* Responsabilidade social e ambiental\n",
            "\n",
            "**10. Tendências e Avanços**\n",
            "* Engenharia de software ágil\n",
            "* Inteligência artificial e aprendizado de máquina\n",
            "* Computação em nuvem e DevOps \n",
            "\n",
            "Esperando prompt: fim\n"
          ]
        }
      ]
    },
    {
      "cell_type": "code",
      "source": [
        "chat\n"
      ],
      "metadata": {
        "colab": {
          "base_uri": "https://localhost:8080/"
        },
        "id": "eJ397_kFjH62",
        "outputId": "18ffc1eb-32d2-4983-d1f4-2d818541f6fe"
      },
      "execution_count": 14,
      "outputs": [
        {
          "output_type": "execute_result",
          "data": {
            "text/plain": [
              "ChatSession(\n",
              "    model=genai.GenerativeModel(\n",
              "        model_name='models/gemini-1.0-pro',\n",
              "        generation_config={'candidate_count': 1, 'temperature': 0.5},\n",
              "        safety_settings={<HarmCategory.HARM_CATEGORY_HARASSMENT: 7>: <HarmBlockThreshold.BLOCK_NONE: 4>, <HarmCategory.HARM_CATEGORY_HATE_SPEECH: 8>: <HarmBlockThreshold.BLOCK_NONE: 4>, <HarmCategory.HARM_CATEGORY_SEXUALLY_EXPLICIT: 9>: <HarmBlockThreshold.BLOCK_NONE: 4>, <HarmCategory.HARM_CATEGORY_DANGEROUS_CONTENT: 10>: <HarmBlockThreshold.BLOCK_NONE: 4>},\n",
              "        tools=None,\n",
              "        system_instruction=None,\n",
              "    ),\n",
              "    history=[glm.Content({'parts': [{'text': 'O que deve m... de Software?'}], 'role': 'user'}), glm.Content({'parts': [{'text': '**Introdução...uvem e DevOps'}], 'role': 'model'})]\n",
              ")"
            ]
          },
          "metadata": {},
          "execution_count": 14
        }
      ]
    },
    {
      "cell_type": "code",
      "source": [
        "chat.history"
      ],
      "metadata": {
        "colab": {
          "base_uri": "https://localhost:8080/"
        },
        "id": "RPquMocmjR5W",
        "outputId": "65a25bdf-2d5e-4385-88e6-b27b16594ced"
      },
      "execution_count": 15,
      "outputs": [
        {
          "output_type": "execute_result",
          "data": {
            "text/plain": [
              "[parts {\n",
              "   text: \"O que deve ministrar em uma aula inicial sobre Engenharia de Software?\"\n",
              " }\n",
              " role: \"user\",\n",
              " parts {\n",
              "   text: \"**Introdu\\303\\247\\303\\243o \\303\\240 Engenharia de Software**\\n\\n**1. O que \\303\\251 Engenharia de Software?**\\n* Defini\\303\\247\\303\\243o e escopo\\n* Princ\\303\\255pios fundamentais (por exemplo, modularidade, abstra\\303\\247\\303\\243o)\\n* Diferen\\303\\247a entre desenvolvimento de software e engenharia de software\\n\\n**2. O Processo de Engenharia de Software**\\n* Vis\\303\\243o geral do ciclo de vida do desenvolvimento de software (SDLC)\\n* Fases e atividades principais (por exemplo, requisitos, design, implementa\\303\\247\\303\\243o, teste)\\n* Modelos de processo (por exemplo, cascata, \\303\\241gil)\\n\\n**3. Modelagem de Requisitos**\\n* Import\\303\\242ncia da coleta e an\\303\\241lise de requisitos\\n* T\\303\\251cnicas de modelagem (por exemplo, casos de uso, diagramas de fluxo de dados)\\n* Valida\\303\\247\\303\\243o e verifica\\303\\247\\303\\243o de requisitos\\n\\n**4. Projeto de Software**\\n* Princ\\303\\255pios de design (por exemplo, acoplamento, coes\\303\\243o)\\n* Padr\\303\\265es de projeto (por exemplo, Singleton, Factory Method)\\n* Ferramentas e t\\303\\251cnicas de projeto (por exemplo, UML, diagramas de classe)\\n\\n**5. Implementa\\303\\247\\303\\243o de Software**\\n* Escolha da linguagem de programa\\303\\247\\303\\243o e ambiente de desenvolvimento\\n* T\\303\\251cnicas de codifica\\303\\247\\303\\243o e boas pr\\303\\241ticas\\n* Depura\\303\\247\\303\\243o e gerenciamento de erros\\n\\n**6. Teste de Software**\\n* Tipos de testes (por exemplo, teste de unidade, teste de integra\\303\\247\\303\\243o, teste de sistema)\\n* T\\303\\251cnicas de teste (por exemplo, teste de caixa preta, teste de caixa branca)\\n* Ferramentas e metodologias de teste\\n\\n**7. Manuten\\303\\247\\303\\243o de Software**\\n* Import\\303\\242ncia da manuten\\303\\247\\303\\243o do software\\n* Tipos de manuten\\303\\247\\303\\243o (por exemplo, corretiva, adaptativa, perfectiva)\\n* T\\303\\251cnicas e ferramentas de manuten\\303\\247\\303\\243o\\n\\n**8. Ferramentas e Tecnologias de Engenharia de Software**\\n* Sistemas de controle de vers\\303\\243o (por exemplo, Git, SVN)\\n* Ambientes de desenvolvimento integrados (por exemplo, Eclipse, IntelliJ)\\n* Ferramentas de an\\303\\241lise est\\303\\241tica (por exemplo, SonarQube, FindBugs)\\n\\n**9. \\303\\211tica e Responsabilidade Profissional**\\n* C\\303\\263digo de \\303\\251tica para engenheiros de software\\n* Implica\\303\\247\\303\\265es \\303\\251ticas do desenvolvimento de software\\n* Responsabilidade social e ambiental\\n\\n**10. Tend\\303\\252ncias e Avan\\303\\247os**\\n* Engenharia de software \\303\\241gil\\n* Intelig\\303\\252ncia artificial e aprendizado de m\\303\\241quina\\n* Computa\\303\\247\\303\\243o em nuvem e DevOps\"\n",
              " }\n",
              " role: \"model\"]"
            ]
          },
          "metadata": {},
          "execution_count": 15
        }
      ]
    },
    {
      "cell_type": "code",
      "source": [
        "# Melhorando a visualização\n",
        "# Código disponível em https://ai.google.dev/tutorials/python_quickstart#import_packages\n",
        "import textwrap\n",
        "from IPython.display import display\n",
        "from IPython.display import Markdown\n",
        "\n",
        "def to_markdown(text):\n",
        "  text = text.replace('•', ' *')\n",
        "  return Markdown(textwrap.indent(text, '> ', predicate=lambda _: True))\n",
        "\n",
        "# Imprimindo histórico\n",
        "for message in chat.history:\n",
        "  display(to_markdown(f'**{message.role}**: {message.parts[0].text}'))\n",
        "  print('-------------------------------------------')\n"
      ],
      "metadata": {
        "colab": {
          "base_uri": "https://localhost:8080/",
          "height": 957
        },
        "id": "2cvbz2KcjgM7",
        "outputId": "79c4d056-1449-4479-9cc3-553295ab8d59"
      },
      "execution_count": 22,
      "outputs": [
        {
          "output_type": "display_data",
          "data": {
            "text/plain": [
              "<IPython.core.display.Markdown object>"
            ],
            "text/markdown": "> **user**: O que deve ministrar em uma aula inicial sobre Engenharia de Software?"
          },
          "metadata": {}
        },
        {
          "output_type": "stream",
          "name": "stdout",
          "text": [
            "-------------------------------------------\n"
          ]
        },
        {
          "output_type": "display_data",
          "data": {
            "text/plain": [
              "<IPython.core.display.Markdown object>"
            ],
            "text/markdown": "> **model**: **Introdução à Engenharia de Software**\n> \n> **1. O que é Engenharia de Software?**\n> * Definição e escopo\n> * Princípios fundamentais (por exemplo, modularidade, abstração)\n> * Diferença entre desenvolvimento de software e engenharia de software\n> \n> **2. O Processo de Engenharia de Software**\n> * Visão geral do ciclo de vida do desenvolvimento de software (SDLC)\n> * Fases e atividades principais (por exemplo, requisitos, design, implementação, teste)\n> * Modelos de processo (por exemplo, cascata, ágil)\n> \n> **3. Modelagem de Requisitos**\n> * Importância da coleta e análise de requisitos\n> * Técnicas de modelagem (por exemplo, casos de uso, diagramas de fluxo de dados)\n> * Validação e verificação de requisitos\n> \n> **4. Projeto de Software**\n> * Princípios de design (por exemplo, acoplamento, coesão)\n> * Padrões de projeto (por exemplo, Singleton, Factory Method)\n> * Ferramentas e técnicas de projeto (por exemplo, UML, diagramas de classe)\n> \n> **5. Implementação de Software**\n> * Escolha da linguagem de programação e ambiente de desenvolvimento\n> * Técnicas de codificação e boas práticas\n> * Depuração e gerenciamento de erros\n> \n> **6. Teste de Software**\n> * Tipos de testes (por exemplo, teste de unidade, teste de integração, teste de sistema)\n> * Técnicas de teste (por exemplo, teste de caixa preta, teste de caixa branca)\n> * Ferramentas e metodologias de teste\n> \n> **7. Manutenção de Software**\n> * Importância da manutenção do software\n> * Tipos de manutenção (por exemplo, corretiva, adaptativa, perfectiva)\n> * Técnicas e ferramentas de manutenção\n> \n> **8. Ferramentas e Tecnologias de Engenharia de Software**\n> * Sistemas de controle de versão (por exemplo, Git, SVN)\n> * Ambientes de desenvolvimento integrados (por exemplo, Eclipse, IntelliJ)\n> * Ferramentas de análise estática (por exemplo, SonarQube, FindBugs)\n> \n> **9. Ética e Responsabilidade Profissional**\n> * Código de ética para engenheiros de software\n> * Implicações éticas do desenvolvimento de software\n> * Responsabilidade social e ambiental\n> \n> **10. Tendências e Avanços**\n> * Engenharia de software ágil\n> * Inteligência artificial e aprendizado de máquina\n> * Computação em nuvem e DevOps"
          },
          "metadata": {}
        },
        {
          "output_type": "stream",
          "name": "stdout",
          "text": [
            "-------------------------------------------\n"
          ]
        }
      ]
    },
    {
      "cell_type": "code",
      "source": [],
      "metadata": {
        "id": "WAPi13vOFJH8"
      },
      "execution_count": null,
      "outputs": []
    }
  ]
}